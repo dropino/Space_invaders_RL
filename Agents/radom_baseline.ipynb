{
 "cells": [
  {
   "cell_type": "code",
   "execution_count": 3,
   "id": "c6da3937-c0a7-48e4-83be-0ff1e90311bf",
   "metadata": {},
   "outputs": [
    {
     "name": "stdout",
     "output_type": "stream",
     "text": [
      "Environment input shape: (84, 84, 4)\n",
      "Environment output shape: 6\n"
     ]
    }
   ],
   "source": [
    "import numpy as np\n",
    "import time\n",
    "import random\n",
    "\n",
    "import tensorflow as tf\n",
    "from tensorflow import keras\n",
    "from tensorflow.keras import layers\n",
    "\n",
    "from baselines.common.atari_wrappers import make_atari, wrap_deepmind\n",
    "\n",
    "\n",
    "\n",
    "# Using no frameskip version, as it will be then made into frameskip (n=4) by the make_atari function\n",
    "env = make_atari(\"SpaceInvadersNoFrameskip-v4\")\n",
    "\n",
    "# Reduce frame size and stacks 4 of them\n",
    "env = wrap_deepmind(env, episode_life=True, clip_rewards=True, frame_stack=True, scale=True)\n",
    "    # Clip_rewards: rewards are transformed in the [-1,1] format\n",
    "    # Episodic_life: considers losing a life as the end of an episode but only reset on true game over. \n",
    "        # Used by deepmind as it helps value estimation\n",
    "\n",
    "env.seed(42)\n",
    "\n",
    "print(\"Environment input shape: {}\".format(env.observation_space.shape))\n",
    "print(\"Environment output shape: {}\".format(env.action_space.n))\n",
    "\n",
    "num_possible_actions = env.action_space.n\n"
   ]
  },
  {
   "cell_type": "code",
   "execution_count": 8,
   "id": "704cf09c-1541-4343-bb87-51bbae387f1d",
   "metadata": {},
   "outputs": [
    {
     "name": "stdout",
     "output_type": "stream",
     "text": [
      "mean reward is: 2.696969696969697\n"
     ]
    }
   ],
   "source": [
    "#Baseline testing\n",
    "history = []\n",
    "tot_ep_reward = 0\n",
    "\n",
    "for episode in range(1,1000): \n",
    "    env.reset()\n",
    "    tot_ep_reward = 0\n",
    "    \n",
    "    for timestep in range(1, 25000):\n",
    "    \n",
    "        # env.render(); \n",
    "        \n",
    "        action = np.random.choice(num_possible_actions)\n",
    "\n",
    "        next_state, reward, done, _ = env.step(action)\n",
    "        next_state = np.asarray(next_state)\n",
    "\n",
    "        tot_ep_reward += reward\n",
    "\n",
    "        cur_state = next_state\n",
    "    \n",
    "        if done == True:\n",
    "            history.append(tot_ep_reward)\n",
    "            break\n",
    "    \n",
    "#calculate reward of last 100 episodes\n",
    "mean_reward = np.mean(history)\n",
    "\n",
    "print(\"mean reward is: {}\".format(mean_reward))"
   ]
  },
  {
   "cell_type": "code",
   "execution_count": 10,
   "id": "4e764399-1081-4f0d-8303-e481b16c839f",
   "metadata": {},
   "outputs": [
    {
     "name": "stdout",
     "output_type": "stream",
     "text": [
      "[6.0, 0.0, 0.0, 3.0, 2.0, 2.0, 2.0, 2.0, 2.0, 3.0, 1.0, 3.0, 11.0, 3.0, 1.0, 2.0, 13.0, 1.0, 4.0, 1.0, 3.0, 1.0, 6.0, 0.0, 3.0, 4.0, 1.0, 0.0, 2.0, 0.0, 1.0, 2.0, 3.0, 2.0, 0.0, 2.0, 0.0, 2.0, 4.0, 2.0, 2.0, 4.0, 4.0, 2.0, 2.0, 4.0, 0.0, 2.0, 3.0, 0.0, 6.0, 3.0, 3.0, 1.0, 4.0, 1.0, 3.0, 4.0, 1.0, 3.0, 1.0, 5.0, 3.0, 6.0, 3.0, 1.0, 7.0, 4.0, 4.0, 1.0, 3.0, 1.0, 3.0, 2.0, 1.0, 1.0, 2.0, 4.0, 5.0, 4.0, 3.0, 3.0, 2.0, 2.0, 8.0, 3.0, 1.0, 7.0, 1.0, 0.0, 5.0, 2.0, 3.0, 5.0, 1.0, 1.0, 1.0, 4.0, 2.0]\n"
     ]
    }
   ],
   "source": [
    "print(history)"
   ]
  },
  {
   "cell_type": "code",
   "execution_count": null,
   "id": "941e4d61-81c2-4ab9-9ca5-de00b3d8bdd6",
   "metadata": {},
   "outputs": [],
   "source": []
  }
 ],
 "metadata": {
  "kernelspec": {
   "display_name": "Python 3",
   "language": "python",
   "name": "python3"
  },
  "language_info": {
   "codemirror_mode": {
    "name": "ipython",
    "version": 3
   },
   "file_extension": ".py",
   "mimetype": "text/x-python",
   "name": "python",
   "nbconvert_exporter": "python",
   "pygments_lexer": "ipython3",
   "version": "3.8.8"
  }
 },
 "nbformat": 4,
 "nbformat_minor": 5
}
